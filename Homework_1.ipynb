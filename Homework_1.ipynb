{
 "cells": [
  {
   "cell_type": "markdown",
   "metadata": {},
   "source": [
    "## Problem 1"
   ]
  },
  {
   "cell_type": "code",
   "execution_count": 2,
   "metadata": {},
   "outputs": [
    {
     "name": "stdout",
     "output_type": "stream",
     "text": [
      "[0, 2, 55, 'name', '345', -23, 'surname']\n",
      "Please enter one of the elements of the list :8\n",
      "Number of 8s is 0\n"
     ]
    }
   ],
   "source": [
    "list1 = [0, 2, 55, \"name\", \"345\", -23, \"surname\"]\n",
    "print(list1)\n",
    "input_variable = input(\"Please enter one of the elements of the list :\")\n",
    "count = list1.count(input_variable)\n",
    "print(\"Number of \" + input_variable +\"s\" + \" is\", count)\n"
   ]
  },
  {
   "cell_type": "markdown",
   "metadata": {},
   "source": [
    "## Problem 2"
   ]
  },
  {
   "cell_type": "code",
   "execution_count": null,
   "metadata": {},
   "outputs": [],
   "source": [
    "t2 = (1,2,3,4,5,6,7,8,9)\n",
    "new_tuple = t2[:4] + (\"hello\",) + t2[5:]\n",
    "print(new_tuple)"
   ]
  },
  {
   "cell_type": "markdown",
   "metadata": {},
   "source": [
    "## Problem 3"
   ]
  },
  {
   "cell_type": "code",
   "execution_count": null,
   "metadata": {},
   "outputs": [],
   "source": [
    "d = {\n",
    "    \"name\":\"Armen\",\n",
    "    \"age\":15,\n",
    "    \"grades\":[10,8,8,4,6,7]\n",
    "}\n",
    "if \"weight\" not in d.keys():\n",
    "    n = input(\"Please enter an integer :\")\n",
    "    d[\"weight\"] = n\n",
    "else:\n",
    "    print(d[\"weight\"])\n",
    "print(d)\n"
   ]
  },
  {
   "cell_type": "markdown",
   "metadata": {},
   "source": [
    "## Problem 4\n"
   ]
  },
  {
   "cell_type": "code",
   "execution_count": 4,
   "metadata": {},
   "outputs": [
    {
     "name": "stdout",
     "output_type": "stream",
     "text": [
      "Enter an integer please :7\n",
      "That was not a correct guess. Please enter another integer :8\n",
      "That was not a correct guess. Please enter another integer :9\n",
      "That was not a correct guess. Please enter another integer :8\n",
      "That was not a correct guess. Please enter another integer :8\n",
      "That was not a correct guess. Please enter another integer :5\n",
      "That was a good guess! You won!!!\n"
     ]
    }
   ],
   "source": [
    "correct_num = 5\n",
    "guess = int(input(\"Enter an integer please :\"))\n",
    "n = 0\n",
    "while n<9:\n",
    "    if guess == correct_num:\n",
    "        print(\"That was a good guess! You won!!!\")\n",
    "        break\n",
    "    else:\n",
    "        new_guess = int(input(\"That was not a correct guess. Please enter another integer :\"))\n",
    "        if new_guess == correct_num:\n",
    "            print(\"That was a good guess! You won!!!\")\n",
    "            break\n",
    "        n += 1"
   ]
  },
  {
   "cell_type": "markdown",
   "metadata": {},
   "source": [
    "## Problem 5"
   ]
  },
  {
   "cell_type": "code",
   "execution_count": 11,
   "metadata": {},
   "outputs": [
    {
     "name": "stdout",
     "output_type": "stream",
     "text": [
      "2\n",
      "['aba', '1221']\n"
     ]
    }
   ],
   "source": [
    "l1 = [\"a\",\"abc\", \"xyz\", \"s\", \"aba\", \"1221\"]\n",
    "A = [x for x in l1 if len(x) >= 2 and x[0] == x[-1]]\n",
    "print(len(A))\n",
    "print(A)"
   ]
  }
 ],
 "metadata": {
  "kernelspec": {
   "display_name": "Python 3",
   "language": "python",
   "name": "python3"
  },
  "language_info": {
   "codemirror_mode": {
    "name": "ipython",
    "version": 3
   },
   "file_extension": ".py",
   "mimetype": "text/x-python",
   "name": "python",
   "nbconvert_exporter": "python",
   "pygments_lexer": "ipython3",
   "version": "3.7.6"
  }
 },
 "nbformat": 4,
 "nbformat_minor": 4
}
